{
 "cells": [
  {
   "cell_type": "markdown",
   "metadata": {},
   "source": [
    "# Recommender System for Netflix Movie Data Set"
   ]
  },
  {
   "cell_type": "code",
   "execution_count": 1,
   "metadata": {},
   "outputs": [],
   "source": [
    "import numpy as np\n",
    "import pandas as pd\n",
    "import matplotlib.pyplot as plt\n",
    "import seaborn as sns\n",
    "import lux"
   ]
  },
  {
   "cell_type": "code",
   "execution_count": 2,
   "metadata": {},
   "outputs": [
    {
     "name": "stderr",
     "output_type": "stream",
     "text": [
      "C:\\Users\\terak\\anaconda3\\lib\\site-packages\\lux\\executor\\PandasExecutor.py:401: UserWarning:\n",
      "Lux detects that the attribute 'date_added' may be temporal.\n",
      "To display visualizations for these attributes accurately, please convert temporal attributes to Pandas Datetime objects using the pd.to_datetime function and provide a 'format' parameter to specify the datetime format of the attribute.\n",
      "For example, you can convert a year-only attribute (e.g., 1998, 1971, 1982) to Datetime type by specifying the `format` as '%Y'.\n",
      "\n",
      "Here is a starter template that you can use for converting the temporal fields:\n",
      "\tdf['date_added'] = pd.to_datetime(df['date_added'], format='<replace-with-datetime-format>')\n",
      "\n",
      "See more at: https://pandas.pydata.org/pandas-docs/stable/reference/api/pandas.to_datetime.html\n",
      "If date_added is not a temporal attribute, please use override Lux's automatically detected type:\n",
      "\tdf.set_data_type({'date_added':'quantitative'})\n",
      "C:\\Users\\terak\\anaconda3\\lib\\site-packages\\lux\\executor\\PandasExecutor.py:401: UserWarning:\n",
      "Lux detects that the attribute 'date_added' may be temporal.\n",
      "To display visualizations for these attributes accurately, please convert temporal attributes to Pandas Datetime objects using the pd.to_datetime function and provide a 'format' parameter to specify the datetime format of the attribute.\n",
      "For example, you can convert a year-only attribute (e.g., 1998, 1971, 1982) to Datetime type by specifying the `format` as '%Y'.\n",
      "\n",
      "Here is a starter template that you can use for converting the temporal fields:\n",
      "\tdf['date_added'] = pd.to_datetime(df['date_added'], format='<replace-with-datetime-format>')\n",
      "\n",
      "See more at: https://pandas.pydata.org/pandas-docs/stable/reference/api/pandas.to_datetime.html\n",
      "If date_added is not a temporal attribute, please use override Lux's automatically detected type:\n",
      "\tdf.set_data_type({'date_added':'quantitative'})\n",
      "C:\\Users\\terak\\anaconda3\\lib\\site-packages\\IPython\\core\\formatters.py:345: UserWarning:\n",
      "Lux defaults to Pandas when there are no valid actions defined.\n"
     ]
    },
    {
     "data": {
      "text/html": [
       "<div>\n",
       "<style scoped>\n",
       "    .dataframe tbody tr th:only-of-type {\n",
       "        vertical-align: middle;\n",
       "    }\n",
       "\n",
       "    .dataframe tbody tr th {\n",
       "        vertical-align: top;\n",
       "    }\n",
       "\n",
       "    .dataframe thead th {\n",
       "        text-align: right;\n",
       "    }\n",
       "</style>\n",
       "<table border=\"1\" class=\"dataframe\">\n",
       "  <thead>\n",
       "    <tr style=\"text-align: right;\">\n",
       "      <th></th>\n",
       "      <th>show_id</th>\n",
       "      <th>type</th>\n",
       "      <th>title</th>\n",
       "      <th>director</th>\n",
       "      <th>cast</th>\n",
       "      <th>country</th>\n",
       "      <th>date_added</th>\n",
       "      <th>release_year</th>\n",
       "      <th>rating</th>\n",
       "      <th>duration</th>\n",
       "      <th>listed_in</th>\n",
       "      <th>description</th>\n",
       "    </tr>\n",
       "  </thead>\n",
       "  <tbody>\n",
       "    <tr>\n",
       "      <th>0</th>\n",
       "      <td>s1</td>\n",
       "      <td>TV Show</td>\n",
       "      <td>3%</td>\n",
       "      <td>NaN</td>\n",
       "      <td>João Miguel, Bianca Comparato, Michel Gomes, R...</td>\n",
       "      <td>Brazil</td>\n",
       "      <td>August 14, 2020</td>\n",
       "      <td>2020</td>\n",
       "      <td>TV-MA</td>\n",
       "      <td>4 Seasons</td>\n",
       "      <td>International TV Shows, TV Dramas, TV Sci-Fi &amp;...</td>\n",
       "      <td>In a future where the elite inhabit an island ...</td>\n",
       "    </tr>\n",
       "    <tr>\n",
       "      <th>1</th>\n",
       "      <td>s2</td>\n",
       "      <td>Movie</td>\n",
       "      <td>7:19</td>\n",
       "      <td>Jorge Michel Grau</td>\n",
       "      <td>Demián Bichir, Héctor Bonilla, Oscar Serrano, ...</td>\n",
       "      <td>Mexico</td>\n",
       "      <td>December 23, 2016</td>\n",
       "      <td>2016</td>\n",
       "      <td>TV-MA</td>\n",
       "      <td>93 min</td>\n",
       "      <td>Dramas, International Movies</td>\n",
       "      <td>After a devastating earthquake hits Mexico Cit...</td>\n",
       "    </tr>\n",
       "    <tr>\n",
       "      <th>2</th>\n",
       "      <td>s3</td>\n",
       "      <td>Movie</td>\n",
       "      <td>23:59</td>\n",
       "      <td>Gilbert Chan</td>\n",
       "      <td>Tedd Chan, Stella Chung, Henley Hii, Lawrence ...</td>\n",
       "      <td>Singapore</td>\n",
       "      <td>December 20, 2018</td>\n",
       "      <td>2011</td>\n",
       "      <td>R</td>\n",
       "      <td>78 min</td>\n",
       "      <td>Horror Movies, International Movies</td>\n",
       "      <td>When an army recruit is found dead, his fellow...</td>\n",
       "    </tr>\n",
       "    <tr>\n",
       "      <th>3</th>\n",
       "      <td>s4</td>\n",
       "      <td>Movie</td>\n",
       "      <td>9</td>\n",
       "      <td>Shane Acker</td>\n",
       "      <td>Elijah Wood, John C. Reilly, Jennifer Connelly...</td>\n",
       "      <td>United States</td>\n",
       "      <td>November 16, 2017</td>\n",
       "      <td>2009</td>\n",
       "      <td>PG-13</td>\n",
       "      <td>80 min</td>\n",
       "      <td>Action &amp; Adventure, Independent Movies, Sci-Fi...</td>\n",
       "      <td>In a postapocalyptic world, rag-doll robots hi...</td>\n",
       "    </tr>\n",
       "    <tr>\n",
       "      <th>4</th>\n",
       "      <td>s5</td>\n",
       "      <td>Movie</td>\n",
       "      <td>21</td>\n",
       "      <td>Robert Luketic</td>\n",
       "      <td>Jim Sturgess, Kevin Spacey, Kate Bosworth, Aar...</td>\n",
       "      <td>United States</td>\n",
       "      <td>January 1, 2020</td>\n",
       "      <td>2008</td>\n",
       "      <td>PG-13</td>\n",
       "      <td>123 min</td>\n",
       "      <td>Dramas</td>\n",
       "      <td>A brilliant group of students become card-coun...</td>\n",
       "    </tr>\n",
       "  </tbody>\n",
       "</table>\n",
       "</div>"
      ],
      "text/plain": [
       "  show_id     type  title           director  \\\n",
       "0      s1  TV Show     3%                NaN   \n",
       "1      s2    Movie   7:19  Jorge Michel Grau   \n",
       "2      s3    Movie  23:59       Gilbert Chan   \n",
       "3      s4    Movie      9        Shane Acker   \n",
       "4      s5    Movie     21     Robert Luketic   \n",
       "\n",
       "                                                cast        country  \\\n",
       "0  João Miguel, Bianca Comparato, Michel Gomes, R...         Brazil   \n",
       "1  Demián Bichir, Héctor Bonilla, Oscar Serrano, ...         Mexico   \n",
       "2  Tedd Chan, Stella Chung, Henley Hii, Lawrence ...      Singapore   \n",
       "3  Elijah Wood, John C. Reilly, Jennifer Connelly...  United States   \n",
       "4  Jim Sturgess, Kevin Spacey, Kate Bosworth, Aar...  United States   \n",
       "\n",
       "          date_added  release_year rating   duration  \\\n",
       "0    August 14, 2020          2020  TV-MA  4 Seasons   \n",
       "1  December 23, 2016          2016  TV-MA     93 min   \n",
       "2  December 20, 2018          2011      R     78 min   \n",
       "3  November 16, 2017          2009  PG-13     80 min   \n",
       "4    January 1, 2020          2008  PG-13    123 min   \n",
       "\n",
       "                                           listed_in  \\\n",
       "0  International TV Shows, TV Dramas, TV Sci-Fi &...   \n",
       "1                       Dramas, International Movies   \n",
       "2                Horror Movies, International Movies   \n",
       "3  Action & Adventure, Independent Movies, Sci-Fi...   \n",
       "4                                             Dramas   \n",
       "\n",
       "                                         description  \n",
       "0  In a future where the elite inhabit an island ...  \n",
       "1  After a devastating earthquake hits Mexico Cit...  \n",
       "2  When an army recruit is found dead, his fellow...  \n",
       "3  In a postapocalyptic world, rag-doll robots hi...  \n",
       "4  A brilliant group of students become card-coun...  "
      ]
     },
     "metadata": {},
     "output_type": "display_data"
    },
    {
     "data": {
      "text/plain": []
     },
     "execution_count": 2,
     "metadata": {},
     "output_type": "execute_result"
    }
   ],
   "source": [
    "#Read csv data set\n",
    "df = pd.read_csv(\"./netflix_titles.csv\")\n",
    "df.head()"
   ]
  },
  {
   "cell_type": "code",
   "execution_count": 3,
   "metadata": {},
   "outputs": [
    {
     "data": {
      "application/vnd.jupyter.widget-view+json": {
       "model_id": "b81890d6e8c4451e9ed3b92d984680e4",
       "version_major": 2,
       "version_minor": 0
      },
      "text/plain": [
       "Button(description='Toggle Pandas/Lux', layout=Layout(top='5px', width='140px'), style=ButtonStyle())"
      ]
     },
     "metadata": {},
     "output_type": "display_data"
    },
    {
     "data": {
      "application/vnd.jupyter.widget-view+json": {
       "model_id": "1b45048490524c9b8bec31f1b8a17741",
       "version_major": 2,
       "version_minor": 0
      },
      "text/plain": [
       "Output()"
      ]
     },
     "metadata": {},
     "output_type": "display_data"
    },
    {
     "data": {
      "text/plain": []
     },
     "execution_count": 3,
     "metadata": {},
     "output_type": "execute_result"
    }
   ],
   "source": [
    "df.count()"
   ]
  },
  {
   "cell_type": "code",
   "execution_count": 4,
   "metadata": {},
   "outputs": [
    {
     "name": "stdout",
     "output_type": "stream",
     "text": [
      "column:  show_id\n",
      "column:  type\n",
      "column:  title\n",
      "column:  director\n",
      "column:  cast\n",
      "column:  country\n",
      "column:  date_added\n",
      "column:  release_year\n",
      "column:  rating\n",
      "column:  duration\n",
      "column:  listed_in\n",
      "column:  description\n"
     ]
    }
   ],
   "source": [
    "#Columns name in data set\n",
    "for col in df.columns:\n",
    "    print(\"column: \",col)"
   ]
  },
  {
   "cell_type": "code",
   "execution_count": 5,
   "metadata": {},
   "outputs": [
    {
     "data": {
      "application/vnd.jupyter.widget-view+json": {
       "model_id": "415956130c234d23bfdbba36d92af406",
       "version_major": 2,
       "version_minor": 0
      },
      "text/plain": [
       "Button(description='Toggle Pandas/Lux', layout=Layout(top='5px', width='140px'), style=ButtonStyle())"
      ]
     },
     "metadata": {},
     "output_type": "display_data"
    },
    {
     "data": {
      "application/vnd.jupyter.widget-view+json": {
       "model_id": "5f07c3ebc92441f09c1c9764aa824a98",
       "version_major": 2,
       "version_minor": 0
      },
      "text/plain": [
       "Output()"
      ]
     },
     "metadata": {},
     "output_type": "display_data"
    },
    {
     "data": {
      "text/plain": []
     },
     "execution_count": 5,
     "metadata": {},
     "output_type": "execute_result"
    }
   ],
   "source": [
    "#How many is null\n",
    "df.isnull().mean()"
   ]
  },
  {
   "cell_type": "code",
   "execution_count": 6,
   "metadata": {},
   "outputs": [
    {
     "data": {
      "text/plain": [
       "'\\n#Fill Null for columns with default values\\ndf[\"rating\"] = df[\"rating\"].fillna(\"No Reating\")\\ndf[\"country\"] = df[\"country\"].fillna(\"NA\")\\ndf[\"cast\"] = df[\"cast\"].fillna(\"NA\")\\ndf[\"director\"] = df[\"director\"].fillna(\"NA\")\\ndf[\"date_added\"] = df[\"date_added\"].fillna(\"NA\")\\n'"
      ]
     },
     "execution_count": 6,
     "metadata": {},
     "output_type": "execute_result"
    }
   ],
   "source": [
    "\"\"\"\n",
    "#Fill Null for columns with default values\n",
    "df[\"rating\"] = df[\"rating\"].fillna(\"No Reating\")\n",
    "df[\"country\"] = df[\"country\"].fillna(\"NA\")\n",
    "df[\"cast\"] = df[\"cast\"].fillna(\"NA\")\n",
    "df[\"director\"] = df[\"director\"].fillna(\"NA\")\n",
    "df[\"date_added\"] = df[\"date_added\"].fillna(\"NA\")\n",
    "\"\"\""
   ]
  },
  {
   "cell_type": "code",
   "execution_count": 7,
   "metadata": {},
   "outputs": [],
   "source": [
    "#How many is null\n",
    "#df.isnull().mean()"
   ]
  },
  {
   "cell_type": "code",
   "execution_count": 8,
   "metadata": {},
   "outputs": [
    {
     "data": {
      "application/vnd.jupyter.widget-view+json": {
       "model_id": "4689d01ce8a640869ef232398679c218",
       "version_major": 2,
       "version_minor": 0
      },
      "text/plain": [
       "Button(description='Toggle Pandas/Lux', layout=Layout(top='5px', width='140px'), style=ButtonStyle())"
      ]
     },
     "metadata": {},
     "output_type": "display_data"
    },
    {
     "data": {
      "application/vnd.jupyter.widget-view+json": {
       "model_id": "3dd7c8a6f8bd46c29d8052add6876e09",
       "version_major": 2,
       "version_minor": 0
      },
      "text/plain": [
       "Output()"
      ]
     },
     "metadata": {},
     "output_type": "display_data"
    },
    {
     "data": {
      "text/plain": []
     },
     "execution_count": 8,
     "metadata": {},
     "output_type": "execute_result"
    }
   ],
   "source": [
    "#Get maximum value of each column and fill Nan with it\n",
    "df['rating'].value_counts()\n",
    "df['country'].value_counts()\n",
    "df['date_added'].value_counts()\n",
    "df['cast'].value_counts()\n",
    "df['director'].value_counts()\n"
   ]
  },
  {
   "cell_type": "code",
   "execution_count": 9,
   "metadata": {},
   "outputs": [],
   "source": [
    "#Get maximum of each column and replace Nan with it\n",
    "max_country = df['country'].value_counts().keys()[0]\n",
    "df['country'].fillna(value=max_country, inplace=True)\n",
    "\n",
    "max_rating = df['rating'].value_counts().keys()[0]\n",
    "df['rating'].fillna(value=max_rating, inplace=True)\n",
    "\n",
    "max_date = df['date_added'].value_counts().keys()[0]\n",
    "df['date_added'].fillna(value=max_date, inplace=True)"
   ]
  },
  {
   "cell_type": "code",
   "execution_count": 10,
   "metadata": {},
   "outputs": [],
   "source": [
    "#Replace Nan with NOT Added (NA)\n",
    "df[\"cast\"].fillna(\"NA\", inplace=True)\n",
    "df[\"director\"].fillna(\"NA\", inplace=True)"
   ]
  },
  {
   "cell_type": "code",
   "execution_count": 11,
   "metadata": {},
   "outputs": [
    {
     "name": "stdout",
     "output_type": "stream",
     "text": [
      "show_id         0.0\n",
      "type            0.0\n",
      "title           0.0\n",
      "director        0.0\n",
      "cast            0.0\n",
      "country         0.0\n",
      "date_added      0.0\n",
      "release_year    0.0\n",
      "rating          0.0\n",
      "duration        0.0\n",
      "listed_in       0.0\n",
      "description     0.0\n",
      "dtype: float64\n"
     ]
    },
    {
     "name": "stderr",
     "output_type": "stream",
     "text": [
      "C:\\Users\\terak\\anaconda3\\lib\\site-packages\\IPython\\lib\\pretty.py:700: UserWarning:\n",
      "Lux defaults to Pandas when there are no valid actions defined.\n"
     ]
    },
    {
     "data": {
      "text/plain": []
     },
     "execution_count": 11,
     "metadata": {},
     "output_type": "execute_result"
    }
   ],
   "source": [
    "#How many is null\n",
    "df.isnull().mean()"
   ]
  },
  {
   "cell_type": "code",
   "execution_count": 12,
   "metadata": {},
   "outputs": [
    {
     "name": "stdout",
     "output_type": "stream",
     "text": [
      "UNIQUE show_id: ['s1' 's2' 's3' ... 's7785' 's7786' 's7787']\n",
      "UNIQUE show_id: 7787\n",
      "------------------------------------------------------------------------------------------------\n",
      "UNIQUE type: ['TV Show' 'Movie']\n",
      "UNIQUE type: 2\n",
      "------------------------------------------------------------------------------------------------\n",
      "UNIQUE title: ['3%' '7:19' '23:59' ... 'Zulu Man in Japan' \"Zumbo's Just Desserts\"\n",
      " \"ZZ TOP: THAT LITTLE OL' BAND FROM TEXAS\"]\n",
      "UNIQUE title: 7787\n",
      "------------------------------------------------------------------------------------------------\n",
      "UNIQUE director: ['NA' 'Jorge Michel Grau' 'Gilbert Chan' ... 'Josef Fares' 'Mozez Singh'\n",
      " 'Sam Dunn']\n",
      "UNIQUE director: 4050\n",
      "------------------------------------------------------------------------------------------------\n",
      "UNIQUE cast: ['João Miguel, Bianca Comparato, Michel Gomes, Rodolfo Valente, Vaneza Oliveira, Rafael Lozano, Viviane Porto, Mel Fronckowiak, Sergio Mamberti, Zezé Motta, Celso Frateschi'\n",
      " 'Demián Bichir, Héctor Bonilla, Oscar Serrano, Azalia Ortiz, Octavio Michel, Carmen Beato'\n",
      " 'Tedd Chan, Stella Chung, Henley Hii, Lawrence Koh, Tommy Kuan, Josh Lai, Mark Lee, Susan Leong, Benjamin Lim'\n",
      " ...\n",
      " 'Vicky Kaushal, Sarah-Jane Dias, Raaghav Chanana, Manish Chaudhary, Meghna Malik, Malkeet Rauni, Anita Shabdish, Chittaranjan Tripathy'\n",
      " 'Nasty C' 'Adriano Zumbo, Rachel Khoo']\n",
      "UNIQUE cast: 6832\n",
      "------------------------------------------------------------------------------------------------\n",
      "UNIQUE country: ['Brazil' 'Mexico' 'Singapore' 'United States' 'Turkey' 'Egypt' 'India'\n",
      " 'Poland, United States' 'Thailand' 'Nigeria'\n",
      " 'Norway, Iceland, United States' 'United Kingdom' 'Japan' 'South Korea'\n",
      " 'Italy' 'Canada' 'Indonesia' 'Romania' 'Spain' 'Iceland'\n",
      " 'South Africa, Nigeria' 'France' 'United States, South Africa'\n",
      " 'Portugal, Spain' 'Hong Kong, China, Singapore' 'United States, Germany'\n",
      " 'South Africa, China, United States' 'Argentina'\n",
      " 'United States, France, Serbia' 'Germany' 'Denmark, France, Poland'\n",
      " 'Poland' 'Kenya' 'New Zealand, United Kingdom' 'Pakistan' 'Australia'\n",
      " 'Australia, United States' 'Mexico, United States' 'United States, China'\n",
      " 'China, Hong Kong' 'Taiwan' 'United States, United Kingdom'\n",
      " 'France, South Korea, Japan' 'United States, Canada'\n",
      " 'United Kingdom, United States' 'Netherlands, Denmark, South Africa'\n",
      " 'Canada, United States' 'Denmark' 'Hong Kong'\n",
      " 'France, Netherlands, Singapore' 'China' 'Philippines'\n",
      " 'United Kingdom, Spain, United States'\n",
      " 'United Arab Emirates, United States' 'Netherlands'\n",
      " 'United Kingdom, Hong Kong' 'Iran, France'\n",
      " 'United States, United Kingdom, France'\n",
      " 'United Kingdom, France, Belgium, United States, China'\n",
      " 'Argentina, Brazil, France, Poland, Germany, Denmark'\n",
      " 'Israel, United States' 'United States, Mexico'\n",
      " 'Uruguay, Argentina, Spain' 'Singapore, France'\n",
      " 'United Kingdom, United States, France, Germany' 'Turkey, United States'\n",
      " 'Bulgaria, United States' 'Australia, France'\n",
      " 'Hong Kong, Iceland, United States' 'United Arab Emirates'\n",
      " 'United States, Chile' 'Germany, France, Russia'\n",
      " 'Mauritius, South Africa' 'United States, Japan' 'Lebanon'\n",
      " 'United States, Bulgaria' 'Colombia' 'Uruguay, Argentina'\n",
      " 'Egypt, Algeria' 'France, Egypt' 'Uruguay' 'Soviet Union, India'\n",
      " 'Sweden, United States' 'South Africa' 'Malaysia'\n",
      " 'Ireland, United Kingdom, United States' 'Spain, Italy'\n",
      " 'United Kingdom, France, Germany' 'United States, Germany, Canada'\n",
      " 'United States, India' 'Japan, United States' 'Denmark, United States'\n",
      " 'South Africa, United States' 'Canada, Luxembourg'\n",
      " 'Serbia, United States' 'Canada, Nigeria' 'Iceland, Sweden, Belgium'\n",
      " 'Ireland, Canada' 'United States, Italy' 'Finland' 'India, Germany'\n",
      " 'China, Spain, South Korea, United States' 'Spain, Belgium'\n",
      " 'United Kingdom, Canada, United States, Germany'\n",
      " 'Brazil, Netherlands, United States, Colombia, Austria, Germany'\n",
      " 'France, Canada, Belgium'\n",
      " 'India, United Kingdom, China, Canada, Japan, South Korea, United States'\n",
      " 'France, Belgium' 'Indonesia, South Korea, Singapore' 'Norway' 'Peru'\n",
      " 'France, Senegal, Belgium' 'Canada, France' 'Chile'\n",
      " 'Romania, France, Switzerland, Germany'\n",
      " 'Bulgaria, United States, Spain, Canada' 'Sweden, Netherlands' 'Ghana'\n",
      " 'France, United States, Mexico'\n",
      " 'Australia, United Kingdom, United Arab Emirates, Canada'\n",
      " 'Singapore, United States' 'Japan, Canada, United States' 'Saudi Arabia'\n",
      " 'Australia, Armenia, Japan, Jordan, Mexico, Mongolia, New Zealand, Philippines, South Africa, Sweden, United States, Uruguay'\n",
      " 'United States, France' 'Norway, Denmark, Netherlands, Sweden' 'Namibia'\n",
      " 'Mexico, Finland' 'United States, Australia' 'Russia' 'Australia, Canada'\n",
      " 'United Kingdom, Ireland' 'Belgium, France' 'New Zealand'\n",
      " 'Uruguay, Spain, Mexico' 'South Korea, China'\n",
      " 'United States, Canada, Indonesia, United Kingdom, China, Singapore'\n",
      " 'India, Iran' 'United States, France, Japan' 'United Kingdom, France'\n",
      " 'Turkey, India' 'Philippines, Qatar' 'Vietnam'\n",
      " 'Ireland, Luxembourg, Belgium'\n",
      " 'Saudi Arabia, Syria, Egypt, Lebanon, Kuwait' 'Russia, United States'\n",
      " 'United Kingdom, Russia, United States' 'Argentina, Spain'\n",
      " 'Germany, Jordan, Netherlands' 'Hong Kong, China'\n",
      " 'Argentina, United States' 'France, Belgium, Spain'\n",
      " 'Germany, United States' 'Denmark, Sweden, Israel, United States'\n",
      " 'Ireland, United Kingdom' 'United States, Iceland'\n",
      " 'United Arab Emirates, United Kingdom, India' 'Sweden'\n",
      " 'Norway, Germany, Sweden' 'Finland, France' 'Denmark, Spain'\n",
      " 'United Kingdom, Russia' 'United States, United Kingdom, Australia'\n",
      " 'India, United Kingdom' 'United States, Canada, Ireland'\n",
      " 'Canada, United Kingdom' 'United States, Israel, Italy, South Africa'\n",
      " 'India, United States' 'United Kingdom, China' 'Indonesia, Singapore'\n",
      " 'Netherlands, Denmark, France, Germany' 'South Korea, Japan'\n",
      " 'Philippines, Canada, United Kingdom, United States'\n",
      " 'France, Malta, United States' 'Kuwait' 'United Kingdom, Pakistan'\n",
      " 'Ireland' 'France, New Zealand'\n",
      " 'United Kingdom, United States, Australia'\n",
      " 'United Kingdom, Czech Republic, United States, Germany, Bahamas'\n",
      " 'United States, Australia, China' 'China, Germany, India, United States'\n",
      " 'Germany, Sri Lanka' 'United States, Sweden'\n",
      " 'Canada, United States, Cayman Islands' 'India, France'\n",
      " 'United Kingdom, Canada' 'United States, India, Bangladesh'\n",
      " 'United States, Canada, France' 'Taiwan, China, France, United States'\n",
      " 'Brazil, France, Germany' 'United States,'\n",
      " 'Turkey, France, Germany, Poland' 'Australia, New Zealand, United States'\n",
      " 'Germany, United States, Hong Kong, Singapore'\n",
      " 'France, Germany, Switzerland' 'Mexico, Argentina'\n",
      " 'Italy, United States, Argentina'\n",
      " 'Germany, France, Luxembourg, United Kingdom, United States'\n",
      " 'Canada, United States, United Kingdom' 'United Kingdom, Canada, Italy'\n",
      " 'Czech Republic, France' 'Zimbabwe'\n",
      " 'United Kingdom, France, Germany, Spain'\n",
      " 'Taiwan, Hong Kong, United States, China' 'China, United States'\n",
      " 'Canada, Brazil' 'United Kingdom, Australia' 'Hungary'\n",
      " 'Germany, Australia' 'United Kingdom, Poland, United States' 'Bulgaria'\n",
      " 'Philippines, United States' 'Finland, Germany' 'United States, Thailand'\n",
      " 'Spain, Belgium, Switzerland, United States, China, United Kingdom'\n",
      " 'Denmark, Zimbabwe' 'United Kingdom, South Africa'\n",
      " 'Finland, Sweden, Norway, Latvia, Germany' 'United Kingdom, India'\n",
      " 'South Africa, United States, New Zealand, Canada' 'France, Qatar'\n",
      " 'France, Algeria' 'United States, Italy, United Kingdom, Liechtenstein'\n",
      " 'Denmark, France, Belgium, Italy, Netherlands, United States, United Kingdom'\n",
      " 'United States, Australia, Mexico'\n",
      " 'United Kingdom, Czech Republic, Germany, United States'\n",
      " 'Russia, Poland, Serbia' 'France, China, Japan, United States'\n",
      " 'United States, South Korea, China' 'Germany, Belgium' 'Chile, Argentina'\n",
      " 'China, United States, United Kingdom' 'Pakistan, Norway, United States'\n",
      " 'United Kingdom, Japan, United States' 'Philippines, Singapore'\n",
      " 'United States, Canada, Belgium, United Kingdom' 'Venezuela'\n",
      " 'Argentina, Uruguay, Serbia' 'United States, Mexico, Colombia'\n",
      " 'Colombia, Peru, United Kingdom' 'Brazil, United States'\n",
      " 'Czech Republic, United States'\n",
      " 'Canada, France, Italy, Morocco, United States' 'Canada, Spain, France'\n",
      " 'Hong Kong, United States' 'France, Canada, China, Cambodia'\n",
      " 'United States, Indonesia' 'Spain, France' 'Spain, Mexico, France'\n",
      " 'Spain, France, Italy' 'Spain, France, United States'\n",
      " 'United States, France, Canada' 'Israel' 'Italy, France'\n",
      " 'United Kingdom, Canada, United States' 'Cambodia, United States'\n",
      " 'China, Japan' 'United Arab Emirates, United States, United Kingdom'\n",
      " 'Argentina, Italy' 'United Kingdom, Israel, Russia'\n",
      " 'Italy, Switzerland, Albania, Poland' 'Spain, Cuba'\n",
      " 'United States, Brazil' 'United States, France, Mexico'\n",
      " 'United States, Nicaragua' 'Austria, Germany'\n",
      " 'United Arab Emirates, Jordan, Lebanon'\n",
      " 'France, United Kingdom, United States'\n",
      " 'United Kingdom, United States, Spain, Germany, Greece, Canada'\n",
      " 'France, Belgium, Luxembourg, Cambodia,' 'Italy, Turkey' 'Brazil, France'\n",
      " 'India, Turkey' 'Kenya, United States' 'United States, South Korea'\n",
      " 'South Korea, United States' 'Italy, Canada, France'\n",
      " 'Thailand, United States' 'United Kingdom, Denmark, Canada, Croatia'\n",
      " 'Netherlands, Belgium'\n",
      " 'United Kingdom, Canada, United States, Cayman Islands' 'Italy, Germany'\n",
      " 'United States, France, United Kingdom, Japan'\n",
      " 'United States, United Kingdom, Denmark, Sweden'\n",
      " 'United States, United Kingdom, Italy'\n",
      " 'United States, France, Canada, Spain' 'Uruguay, Guatemala'\n",
      " 'Germany, Australia, France, China'\n",
      " 'United States, United Kingdom, Japan'\n",
      " 'United States, United Kingdom, Canada'\n",
      " 'Italy, Switzerland, France, Germany' 'Russia, United States, China'\n",
      " 'United States, Canada, Germany' 'United States, Czech Republic'\n",
      " 'Ireland, United States' 'United States, United Arab Emirates'\n",
      " 'France, Australia, Germany' 'Hong Kong, China, United States'\n",
      " 'Lebanon, United Arab Emirates, France, Switzerland, Germany'\n",
      " 'United States, South Korea, Japan' 'Romania, United States'\n",
      " 'West Germany' 'United States, Ireland' 'Chile, Italy'\n",
      " 'Ireland, United Kingdom, Italy, United States' 'Belgium' 'Poland,'\n",
      " 'Slovenia, Croatia, Germany, Czech Republic, Qatar'\n",
      " 'Canada, United Kingdom, Netherlands'\n",
      " 'United Kingdom, United States, France' 'Indonesia, United Kingdom'\n",
      " 'United States, Spain, Germany' 'India, Japan'\n",
      " 'Switzerland, France, Belgium, United States'\n",
      " 'China, South Korea, United States' 'United Kingdom, France, Belgium'\n",
      " 'Canada, Ireland, United States'\n",
      " 'United Kingdom, United States, Dominican Republic'\n",
      " 'United States, Senegal' 'Germany, United Kingdom, United States'\n",
      " 'United States, Canada, United Kingdom' 'Canada, United States, France'\n",
      " 'United Kingdom, Germany, Canada' 'Argentina, France'\n",
      " 'South Africa, Germany, Netherlands, France'\n",
      " 'Canada, United States, United Kingdom, France, Luxembourg'\n",
      " 'Finland, Germany, Belgium' 'United States, United Kingdom, Germany'\n",
      " 'Taiwan, China' 'Cambodia' 'Spain, Portugal'\n",
      " 'Ireland, United States, France' 'Jordan' 'Austria'\n",
      " 'Germany, United States, Canada'\n",
      " 'United Kingdom, Germany, Canada, United States'\n",
      " 'United States, France, Canada, Lebanon, Qatar' 'Indonesia, Netherlands'\n",
      " 'Netherlands, Belgium, United Kingdom, United States'\n",
      " 'China, United States, Australia' 'France, Belgium, China, United States'\n",
      " 'Spain, United Kingdom' 'United States, Chile, Israel' 'Bangladesh'\n",
      " 'United Kingdom, Norway, Denmark, Germany, Sweden'\n",
      " 'United States, Japan, Canada' 'Norway, Denmark, Sweden'\n",
      " 'China, India, Nepal' 'United States, Argentina'\n",
      " 'Mexico, United States, Spain, Colombia'\n",
      " 'Colombia, Mexico, United States' 'United Kingdom, Belgium, Sweden'\n",
      " 'Nigeria, United Kingdom' 'United Kingdom, South Korea'\n",
      " 'United States, Taiwan' 'Netherlands, Belgium, Germany, Jordan'\n",
      " 'France, Canada' 'United Kingdom, France, United States'\n",
      " 'Denmark, Singapore, Canada, United States' 'Denmark, China'\n",
      " 'Malaysia, Singapore, Hong Kong' 'Norway, United States'\n",
      " 'United States, Philippines' 'United States, Greece, Brazil'\n",
      " 'France, United States' 'South Korea, France'\n",
      " 'United States, Australia, Samoa, United Kingdom' 'Canada, South Africa'\n",
      " 'United Kingdom, Italy' 'Germany, United Kingdom' 'China, United Kingdom'\n",
      " 'Argentina, Chile, Peru' 'United States, Russia' 'Uruguay, Germany'\n",
      " 'Turkey, Azerbaijan' 'United States, China, Hong Kong'\n",
      " 'Canada, Germany, France, United States'\n",
      " 'Argentina, United States, Mexico' 'France, United Kingdom, India'\n",
      " 'China, Taiwan' 'Italy, United Kingdom, France' 'Poland, West Germany'\n",
      " 'Germany, United States, Sweden' 'Canada, Spain'\n",
      " 'United Kingdom, France, Belgium, United States' 'France, Japan'\n",
      " 'Netherlands, Germany, Italy, Canada' 'United States, Cambodia'\n",
      " 'United States, Greece' 'United States, China, Colombia'\n",
      " 'United States, Spain, Italy' 'Norway, United Kingdom, France, Ireland'\n",
      " 'United States, Bermuda, Ecuador' 'United Kingdom, Poland'\n",
      " 'China, Canada, United States' 'United States, Spain' 'India, Mexico'\n",
      " 'United Kingdom, West Germany' 'Pakistan, United States'\n",
      " 'Israel, Sweden, Germany, Netherlands' 'Chile, United States, France'\n",
      " 'France, Morocco' 'United Kingdom, Germany' 'Georgia, Germany, France'\n",
      " 'Switzerland, France' 'Turkey, South Korea' 'Italy, India'\n",
      " 'United States, Botswana' 'United States, Colombia, Mexico'\n",
      " 'Chile, Argentina, France, Spain, United States'\n",
      " 'Puerto Rico, United States, Colombia' 'United States, Nigeria'\n",
      " 'Germany, United States, France' 'Spain, Germany, Denmark, United States'\n",
      " 'United Kingdom, United States, Japan' 'Netherlands, United States'\n",
      " 'United States, India, South Korea, China'\n",
      " 'Denmark, Germany, Belgium, United Kingdom, France'\n",
      " 'Denmark, Germany, Belgium, United Kingdom, France, Sweden'\n",
      " 'France, Switzerland, Spain, United States, United Arab Emirates'\n",
      " 'Norway, Sweden' 'United States, Ireland, United Kingdom, India'\n",
      " 'United Kingdom, Singapore' 'Spain, Germany' 'Germany, Czech Republic'\n",
      " 'Denmark, Brazil, France, Portugal, Sweden'\n",
      " 'Brazil, India, China, United States' 'India, Germany, Austria'\n",
      " 'Italy, United States' 'Denmark, France, United States, Sweden'\n",
      " 'Australia, Iraq' 'China, Morocco, Hong Kong' 'Spain, Colombia'\n",
      " 'Australia, United Arab Emirates' 'Canada, United States, Germany'\n",
      " 'France, Belgium, Italy' 'United Kingdom, Thailand' 'Venezuela, Colombia'\n",
      " 'France, Luxembourg, Canada' 'India, Nepal' 'Mexico, Spain'\n",
      " 'Colombia, United States' 'Colombia, Mexico'\n",
      " 'France, Germany, Czech Republic, Belgium'\n",
      " 'Germany, China, United Kingdom' 'Canada, Hungary, United States'\n",
      " 'Pakistan, United Arab Emirates' 'France, United Kingdom'\n",
      " 'Spain, United Kingdom, United States' 'United Kingdom, Kenya'\n",
      " 'United States, Norway, Canada' 'Canada, United States, Ireland'\n",
      " 'Switzerland, Vatican City, Italy, Germany, France'\n",
      " 'Portugal, France, Poland, United States' 'France, Japan, United States'\n",
      " 'United States, New Zealand' 'United States, New Zealand, Japan'\n",
      " 'United States, Netherlands, Japan, France' 'India, Switzerland'\n",
      " 'Canada, India' 'Canada, Japan, United States' 'United States, Morocco'\n",
      " 'United States, Mexico, Spain, Malta' 'Norway, Denmark'\n",
      " 'South Korea, Canada, United States, China' 'Singapore, Japan, France'\n",
      " 'Canada, Mexico, Germany, South Africa'\n",
      " 'United Kingdom, United States, Canada'\n",
      " 'Germany, France, United States, Canada, United Kingdom'\n",
      " 'Peru, Germany, Norway' 'Singapore, Malaysia' 'United States, Uruguay'\n",
      " 'India, Canada' 'Ireland, Canada, United Kingdom, United States'\n",
      " 'United States, Germany, Australia' 'Senegal' 'Israel, Germany, France'\n",
      " 'Australia, France, Ireland' 'South Africa, Angola'\n",
      " 'Austria, Czech Republic' 'Australia, India'\n",
      " 'United States, United Kingdom, Canada, Japan'\n",
      " 'Sweden, United Kingdom, Finland' 'Hong Kong, Taiwan'\n",
      " 'United States, United Kingdom, Spain, South Korea'\n",
      " 'South Korea, China, United States' 'Guatemala' 'Ukraine'\n",
      " 'United States, United Kingdom, Canada, China'\n",
      " 'Italy, South Africa, West Germany, Australia, United States'\n",
      " 'United Kingdom, Finland, Germany' 'South Africa, United States, Germany'\n",
      " 'United States, Germany, United Kingdom, Australia' 'India, Soviet Union'\n",
      " 'Italy, France, Switzerland' 'Canada, France, United States'\n",
      " 'United States, Colombia' 'India, Malaysia' 'Switzerland, United States'\n",
      " 'Thailand, Canada, United States' 'China, Hong Kong, United States'\n",
      " 'United Kingdom, New Zealand'\n",
      " 'United Kingdom, France, Germany, United States'\n",
      " 'South Korea, Czech Republic' 'Czech Republic, United Kingdom, France'\n",
      " 'Australia, United Kingdom, Canada'\n",
      " 'Canada, United Kingdom, United States' 'United States, Hungary'\n",
      " 'Jamaica, United States' 'Switzerland'\n",
      " 'Australia, United Kingdom, United States, New Zealand, Italy, France'\n",
      " 'France, United States, Canada' 'Australia, United Kingdom'\n",
      " 'United States, Denmark'\n",
      " 'United Kingdom, France, Canada, Belgium, United States'\n",
      " 'Denmark, United Kingdom, Sweden' 'Belarus' 'Cyprus'\n",
      " 'Lebanon, United States, United Arab Emirates' 'United States, Hong Kong'\n",
      " 'United States, Kazakhstan'\n",
      " 'Argentina, France, United States, Germany, Qatar'\n",
      " 'United States, Germany, United Kingdom'\n",
      " 'United States, Germany, United Kingdom, Italy'\n",
      " 'United States, New Zealand, United Kingdom' 'Finland, United States'\n",
      " 'Spain, France, Uruguay' 'France, Belgium, United States'\n",
      " 'France, Canada, United States' 'Spain, Argentina'\n",
      " 'United Kingdom, India, United States' 'Chile, France'\n",
      " 'United States, United Kingdom, France, Germany, Japan' 'Canada, Norway'\n",
      " 'United States, Hungary, Ireland, Canada' 'United States, Canada, China'\n",
      " 'United Kingdom, Malawi'\n",
      " 'Ireland, Canada, Luxembourg, United States, United Kingdom, Philippines, India'\n",
      " 'United States, Czech Republic, United Kingdom' 'Ghana, United States'\n",
      " 'Israel, Germany' 'Spain, Mexico' 'Mexico, France'\n",
      " 'Brazil, United Kingdom'\n",
      " 'France, Belgium, Luxembourg, Romania, Canada, United States'\n",
      " 'Israel, Germany, Poland, Luxembourg, Belgium, France, United States'\n",
      " 'France, Germany' 'United States, Malta, France, United Kingdom'\n",
      " 'United Kingdom, United States, Germany, Denmark, Belgium, Japan'\n",
      " 'Austria, United States' 'Canada, Australia' 'Greece, United States'\n",
      " 'United Kingdom, France, Belgium, Canada, United States'\n",
      " 'Argentina, Chile' 'Czech Republic, Slovakia'\n",
      " 'United Kingdom, Germany, United States, France'\n",
      " 'United Kingdom, Lithuania' 'Egypt, France' 'Spain, France, Canada'\n",
      " 'United States, Greece, United Kingdom'\n",
      " 'United Kingdom, China, United States, India' 'Taiwan, Malaysia'\n",
      " 'United States, Sweden, Norway' 'United Kingdom, United States, Morocco'\n",
      " 'United States, United Kingdom, Morocco' 'United States, China, Canada'\n",
      " 'Spain, Canada, United States' 'Canada, Belgium'\n",
      " 'United States, India, United Arab Emirates'\n",
      " 'United Kingdom, Canada, France, United States'\n",
      " 'Spain, Thailand, United States' 'Canada, Germany, South Africa'\n",
      " 'India, Germany, France' 'United States, Israel, United Kingdom, Canada'\n",
      " 'United Kingdom, Hungary, Australia' 'Lebanon, France'\n",
      " 'Belgium, Ireland, Netherlands, Germany, Afghanistan' 'Chile, Peru'\n",
      " 'Paraguay, Argentina'\n",
      " 'United Kingdom, Italy, Israel, Peru, United States' 'Norway, Germany'\n",
      " 'France, Canada, Italy, United States, China'\n",
      " 'Netherlands, Germany, Denmark, United Kingdom' 'France, Lebanon'\n",
      " 'Ireland, United Kingdom, Greece, France, Netherlands'\n",
      " 'Denmark, Indonesia, Finland, Norway, United Kingdom, Israel, France, United States, Germany, Netherlands'\n",
      " 'New Zealand, United States' 'Argentina, Uruguay, Spain, France'\n",
      " 'United Kingdom, Germany, United States'\n",
      " 'United States, Australia, South Africa, United Kingdom' 'Italy, Belgium'\n",
      " 'United States, Germany, Mexico' 'Chile, Spain, Argentina, Germany'\n",
      " 'Germany, Italy' 'United Kingdom, Nigeria'\n",
      " 'Belgium, United Kingdom, United States' 'Australia, New Zealand'\n",
      " 'Spain, Switzerland' 'Indonesia, United States'\n",
      " 'Canada, South Korea, United States' 'France, Iran, United States'\n",
      " 'Croatia' 'Somalia, Kenya, Sudan, South Africa, United States'\n",
      " 'Ireland, France, Iceland, United States, Mexico, Belgium, United Kingdom, Hong Kong'\n",
      " 'Spain, United States' 'United States, Canada, Japan, Panama'\n",
      " 'United Kingdom, Spain, Belgium' 'Serbia, South Korea, Slovenia'\n",
      " 'Denmark, United Kingdom, South Africa, Sweden, Belgium'\n",
      " 'Germany, Canada, United States' 'Ireland, South Africa'\n",
      " 'Canada, Germany' 'Spain, France, Canada, United States'\n",
      " 'India, United Kingdom, Canada, United States'\n",
      " 'United States, Belgium, Canada' 'United States, France, Canada, Belgium'\n",
      " 'United Kingdom, Egypt, United States'\n",
      " 'United Kingdom, Germany, United Arab Emirates, New Zealand'\n",
      " 'United Kingdom, France, United States, Belgium, Luxembourg, China, Germany'\n",
      " 'United Kingdom, Spain, United States, Germany'\n",
      " 'United States, France, Italy, United Kingdom' 'Georgia'\n",
      " 'United States, United Kingdom, India'\n",
      " 'Ireland, Canada, United States, United Kingdom'\n",
      " 'New Zealand, United Kingdom, Australia' 'United States, Poland'\n",
      " 'United Arab Emirates, Romania'\n",
      " 'United Kingdom, Australia, Canada, United States' 'Mexico, Netherlands'\n",
      " 'Spain, Italy, Argentina' 'Germany, United States, Italy'\n",
      " 'United States, Venezuela' 'United Kingdom, Canada, Japan'\n",
      " 'Canada, Japan, Netherlands'\n",
      " 'United Kingdom, United States, Czech Republic'\n",
      " 'United Kingdom, China, United States' 'United Kingdom, Brazil, Germany'\n",
      " 'Thailand, China, United States'\n",
      " 'United Kingdom, Namibia, South Africa, Zimbabwe, United States'\n",
      " 'United Kingdom, South Africa, Australia, United States'\n",
      " 'Canada, United States, India, United Kingdom'\n",
      " 'United States, Brazil, South Korea, Mexico, Japan, Germany'\n",
      " 'France, Lebanon, United Kingdom' 'United Kingdom, Jordan, Qatar, Iran'\n",
      " 'Switzerland, United Kingdom, United States' 'Belgium, Netherlands'\n",
      " 'United Kingdom, Germany, France, United States'\n",
      " 'Romania, United Kingdom' 'Lebanon, Qatar'\n",
      " 'United Kingdom, India, Sweden' 'United Kingdom, Belgium'\n",
      " 'India, Pakistan' 'United Kingdom,'\n",
      " 'Saudi Arabia, Netherlands, Germany, Jordan, United Arab Emirates, United States'\n",
      " 'France, Brazil, Spain, Belgium'\n",
      " 'United States, Brazil, India, Uganda, China'\n",
      " 'United Kingdom, Ireland, United States' 'Lebanon, Canada, France'\n",
      " 'India, Australia' 'Austria, Iraq, United States'\n",
      " 'France, Norway, Lebanon, Belgium'\n",
      " 'United Kingdom, France, United States, Belgium'\n",
      " 'Saudi Arabia, United Arab Emirates'\n",
      " 'Peru, United States, United Kingdom'\n",
      " 'Germany, United States, United Kingdom, Canada'\n",
      " 'Uruguay, Argentina, Germany, Spain' 'France, Luxembourg, United States'\n",
      " 'United Kingdom, Spain'\n",
      " 'Canada, India, Thailand, United States, United Arab Emirates'\n",
      " 'Romania, Bulgaria, Hungary' 'United States, East Germany, West Germany'\n",
      " 'France, Netherlands, South Africa, Finland'\n",
      " 'United Kingdom, Ukraine, United States' 'Egypt, Austria, United States'\n",
      " 'Russia, Spain' 'Croatia, Slovenia, Serbia, Montenegro' 'Japan, Canada'\n",
      " 'United States, France, South Korea, Indonesia'\n",
      " 'United Arab Emirates, Jordan'\n",
      " 'Sweden, Czech Republic, United Kingdom, Denmark, Netherlands']\n",
      "UNIQUE country: 681\n",
      "------------------------------------------------------------------------------------------------\n",
      "UNIQUE date_added: ['August 14, 2020' 'December 23, 2016' 'December 20, 2018' ...\n",
      " 'December 6, 2018' 'March 9, 2016' 'January 11, 2020']\n",
      "UNIQUE date_added: 1565\n",
      "------------------------------------------------------------------------------------------------\n",
      "UNIQUE release_year: [2020 2016 2011 2009 2008 2019 1997 2017 2018 2014 2015 2010 2005 2013\n",
      " 2012 2006 2000 2003 1989 2004 1977 1971 1993 2007 1998 1988 1996 2002\n",
      " 1986 1990 1979 1980 1974 2001 1999 1966 1991 1982 1994 1995 1978 1992\n",
      " 1972 1975 2021 1973 1967 1960 1981 1958 1976 1968 1956 1985 1965 1984\n",
      " 1983 1987 1945 1946 1962 1925 1942 1969 1955 1963 1964 1954 1970 1944\n",
      " 1947 1959 1943]\n",
      "UNIQUE release_year: 73\n",
      "------------------------------------------------------------------------------------------------\n",
      "UNIQUE rating: ['TV-MA' 'R' 'PG-13' 'TV-14' 'TV-PG' 'NR' 'TV-G' 'TV-Y' 'TV-Y7' 'PG' 'G'\n",
      " 'NC-17' 'TV-Y7-FV' 'UR']\n",
      "UNIQUE rating: 14\n",
      "------------------------------------------------------------------------------------------------\n",
      "UNIQUE duration: ['4 Seasons' '93 min' '78 min' '80 min' '123 min' '1 Season' '95 min'\n",
      " '119 min' '118 min' '143 min' '103 min' '89 min' '91 min' '149 min'\n",
      " '144 min' '124 min' '87 min' '110 min' '128 min' '117 min' '100 min'\n",
      " '2 Seasons' '84 min' '99 min' '90 min' '102 min' '104 min' '105 min'\n",
      " '56 min' '125 min' '81 min' '97 min' '106 min' '107 min' '109 min'\n",
      " '44 min' '75 min' '101 min' '3 Seasons' '37 min' '113 min' '114 min'\n",
      " '130 min' '94 min' '140 min' '135 min' '82 min' '70 min' '121 min'\n",
      " '92 min' '164 min' '53 min' '83 min' '116 min' '86 min' '120 min'\n",
      " '96 min' '126 min' '129 min' '77 min' '137 min' '148 min' '28 min'\n",
      " '122 min' '176 min' '85 min' '22 min' '68 min' '111 min' '29 min'\n",
      " '142 min' '168 min' '21 min' '59 min' '20 min' '98 min' '108 min'\n",
      " '76 min' '26 min' '156 min' '30 min' '57 min' '150 min' '133 min'\n",
      " '115 min' '154 min' '127 min' '146 min' '136 min' '88 min' '131 min'\n",
      " '24 min' '112 min' '74 min' '63 min' '38 min' '25 min' '174 min' '60 min'\n",
      " '153 min' '158 min' '151 min' '162 min' '54 min' '51 min' '69 min'\n",
      " '64 min' '147 min' '42 min' '79 min' '5 Seasons' '40 min' '45 min'\n",
      " '172 min' '10 min' '163 min' '9 Seasons' '55 min' '72 min' '61 min'\n",
      " '71 min' '160 min' '171 min' '48 min' '139 min' '157 min' '15 min'\n",
      " '65 min' '134 min' '161 min' '62 min' '8 Seasons' '186 min' '49 min'\n",
      " '73 min' '58 min' '165 min' '166 min' '138 min' '159 min' '141 min'\n",
      " '132 min' '52 min' '67 min' '34 min' '66 min' '312 min' '180 min'\n",
      " '47 min' '6 Seasons' '155 min' '14 min' '177 min' '11 min' '9 min'\n",
      " '46 min' '145 min' '11 Seasons' '7 Seasons' '13 Seasons' '8 min' '12 min'\n",
      " '12 Seasons' '10 Seasons' '43 min' '50 min' '23 min' '185 min' '200 min'\n",
      " '169 min' '27 min' '170 min' '196 min' '33 min' '181 min' '204 min'\n",
      " '32 min' '35 min' '167 min' '16 Seasons' '179 min' '193 min' '13 min'\n",
      " '214 min' '17 min' '173 min' '192 min' '209 min' '187 min' '41 min'\n",
      " '182 min' '224 min' '233 min' '189 min' '152 min' '19 min' '15 Seasons'\n",
      " '208 min' '237 min' '31 min' '178 min' '230 min' '194 min' '228 min'\n",
      " '195 min' '3 min' '16 min' '5 min' '18 min' '205 min' '190 min' '36 min'\n",
      " '201 min' '253 min' '203 min' '191 min']\n",
      "UNIQUE duration: 216\n",
      "------------------------------------------------------------------------------------------------\n",
      "UNIQUE listed_in: ['International TV Shows, TV Dramas, TV Sci-Fi & Fantasy'\n",
      " 'Dramas, International Movies' 'Horror Movies, International Movies'\n",
      " 'Action & Adventure, Independent Movies, Sci-Fi & Fantasy' 'Dramas'\n",
      " 'International TV Shows, TV Dramas, TV Mysteries'\n",
      " 'Horror Movies, International Movies, Thrillers' 'Dramas, Thrillers'\n",
      " 'Crime TV Shows, International TV Shows, TV Dramas'\n",
      " 'Crime TV Shows, Docuseries, International TV Shows'\n",
      " 'Documentaries, International Movies, Sports Movies'\n",
      " 'Independent Movies, Sci-Fi & Fantasy, Thrillers'\n",
      " 'Dramas, International Movies, Thrillers'\n",
      " 'International TV Shows, TV Dramas'\n",
      " 'Comedies, Dramas, Independent Movies' 'Sports Movies'\n",
      " 'Dramas, Independent Movies, International Movies'\n",
      " 'Action & Adventure, Dramas, International Movies'\n",
      " 'Anime Series, International TV Shows' 'Documentaries' 'Reality TV'\n",
      " 'Documentaries, International Movies' 'TV Comedies'\n",
      " 'Dramas, International Movies, Romantic Movies' 'Comedies'\n",
      " 'Comedies, Romantic Movies' 'Documentaries, Sports Movies'\n",
      " 'Comedies, Dramas, International Movies'\n",
      " 'International TV Shows, Romantic TV Shows, TV Comedies'\n",
      " 'Comedies, International Movies' 'Action & Adventure, Sci-Fi & Fantasy'\n",
      " 'Dramas, Romantic Movies' 'Dramas, Romantic Movies, Sports Movies'\n",
      " 'Comedies, International Movies, Romantic Movies' 'Action & Adventure'\n",
      " 'International TV Shows, Romantic TV Shows, TV Dramas'\n",
      " 'Docuseries, Science & Nature TV'\n",
      " 'Dramas, International Movies, Sports Movies' 'Movies'\n",
      " 'British TV Shows, International TV Shows, Reality TV'\n",
      " 'Dramas, Independent Movies, Sports Movies'\n",
      " 'International TV Shows, Korean TV Shows, Romantic TV Shows'\n",
      " 'Horror Movies, Independent Movies, Thrillers'\n",
      " 'Crime TV Shows, TV Dramas, TV Mysteries' 'Crime TV Shows, Docuseries'\n",
      " 'Horror Movies, Thrillers' 'Action & Adventure, International Movies'\n",
      " 'Horror Movies, Independent Movies' 'Documentaries, Music & Musicals'\n",
      " 'International Movies, Music & Musicals' 'Sci-Fi & Fantasy'\n",
      " 'Dramas, Independent Movies' 'British TV Shows, Reality TV'\n",
      " 'Action & Adventure, Comedies, International Movies' 'Comedies, Dramas'\n",
      " 'Dramas, LGBTQ Movies' 'Documentaries, Faith & Spirituality'\n",
      " 'Action & Adventure, Comedies'\n",
      " \"Kids' TV, TV Action & Adventure, TV Sci-Fi & Fantasy\"\n",
      " 'International Movies, Thrillers' \"Kids' TV\"\n",
      " 'International TV Shows, Romantic TV Shows, Spanish-Language TV Shows'\n",
      " 'Children & Family Movies, Comedies' 'Comedies, LGBTQ Movies'\n",
      " 'Comedies, Dramas, Romantic Movies' 'Action & Adventure, Dramas'\n",
      " 'Dramas, Independent Movies, Romantic Movies'\n",
      " 'Comedies, Independent Movies, Thrillers' 'TV Shows' 'Docuseries'\n",
      " 'Comedies, International Movies, Music & Musicals'\n",
      " 'Docuseries, International TV Shows, Science & Nature TV'\n",
      " 'British TV Shows, Docuseries, Science & Nature TV'\n",
      " 'Children & Family Movies, Dramas, Sports Movies'\n",
      " 'Children & Family Movies' 'Dramas, Sci-Fi & Fantasy'\n",
      " 'International TV Shows, TV Comedies, TV Dramas'\n",
      " 'Action & Adventure, Classic Movies, Dramas'\n",
      " 'Children & Family Movies, Dramas'\n",
      " 'Action & Adventure, International Movies, Romantic Movies'\n",
      " 'Children & Family Movies, Dramas, Romantic Movies'\n",
      " 'Children & Family Movies, Comedies, Music & Musicals'\n",
      " 'Classic Movies, Cult Movies, Dramas'\n",
      " 'Action & Adventure, International Movies, Sci-Fi & Fantasy'\n",
      " 'Comedies, Independent Movies' 'Comedies, Horror Movies'\n",
      " 'Children & Family Movies, Comedies, Romantic Movies'\n",
      " 'International TV Shows, TV Dramas, TV Horror' 'Thrillers'\n",
      " 'Stand-Up Comedy & Talk Shows, TV Comedies'\n",
      " 'International TV Shows, Romantic TV Shows, Teen TV Shows'\n",
      " 'Crime TV Shows, International TV Shows, Korean TV Shows'\n",
      " 'Comedies, International Movies, Sports Movies'\n",
      " 'Dramas, LGBTQ Movies, Romantic Movies' 'Comedies, Cult Movies'\n",
      " 'Dramas, Independent Movies, LGBTQ Movies'\n",
      " 'International TV Shows, Reality TV' 'Stand-Up Comedy'\n",
      " 'Documentaries, LGBTQ Movies'\n",
      " \"Kids' TV, TV Action & Adventure, TV Comedies\"\n",
      " 'Anime Features, International Movies'\n",
      " 'Music & Musicals, Romantic Movies' 'Comedies, Music & Musicals'\n",
      " 'International TV Shows, TV Comedies'\n",
      " 'International Movies, Romantic Movies'\n",
      " 'Anime Features, Children & Family Movies, International Movies'\n",
      " 'British TV Shows, TV Comedies, TV Dramas' 'TV Dramas' 'Horror Movies'\n",
      " 'Action & Adventure, Children & Family Movies, Independent Movies'\n",
      " 'Dramas, International Movies, Music & Musicals'\n",
      " 'Comedies, International Movies, Sci-Fi & Fantasy'\n",
      " 'International TV Shows, Korean TV Shows, Stand-Up Comedy & Talk Shows'\n",
      " 'Docuseries, Science & Nature TV, TV Comedies' 'Dramas, Sports Movies'\n",
      " 'Dramas, Music & Musicals, Romantic Movies'\n",
      " 'Children & Family Movies, Comedies, International Movies'\n",
      " 'Action & Adventure, Documentaries, International Movies'\n",
      " 'Comedies, International Movies, Thrillers'\n",
      " 'Action & Adventure, Dramas, Romantic Movies'\n",
      " 'Horror Movies, Independent Movies, International Movies'\n",
      " 'Dramas, Independent Movies, Sci-Fi & Fantasy'\n",
      " 'International Movies, Sci-Fi & Fantasy'\n",
      " 'Docuseries, Reality TV, Science & Nature TV'\n",
      " 'British TV Shows, Docuseries, International TV Shows'\n",
      " 'Docuseries, International TV Shows'\n",
      " 'British TV Shows, International TV Shows, TV Comedies'\n",
      " 'Action & Adventure, Horror Movies'\n",
      " 'British TV Shows, Reality TV, Romantic TV Shows'\n",
      " 'Crime TV Shows, International TV Shows, TV Action & Adventure'\n",
      " 'International TV Shows, Reality TV, Romantic TV Shows'\n",
      " 'International Movies, Music & Musicals, Romantic Movies'\n",
      " 'TV Comedies, TV Dramas'\n",
      " 'Anime Series, Crime TV Shows, International TV Shows'\n",
      " \"Kids' TV, TV Comedies, TV Dramas\" 'Action & Adventure, Comedies, Dramas'\n",
      " 'Documentaries, International Movies, Music & Musicals'\n",
      " \"Kids' TV, TV Comedies\" 'Classic Movies, Dramas, International Movies'\n",
      " 'Comedies, Independent Movies, International Movies'\n",
      " 'Classic Movies, Comedies, Dramas'\n",
      " 'International TV Shows, TV Action & Adventure, TV Mysteries'\n",
      " 'Comedies, International Movies, LGBTQ Movies'\n",
      " 'Children & Family Movies, Comedies, Sci-Fi & Fantasy'\n",
      " 'TV Dramas, Teen TV Shows' 'Children & Family Movies, Independent Movies'\n",
      " 'International TV Shows, Spanish-Language TV Shows, TV Comedies'\n",
      " 'Crime TV Shows, TV Action & Adventure, TV Dramas'\n",
      " 'Action & Adventure, Anime Features, International Movies'\n",
      " 'Action & Adventure, Classic Movies, Comedies'\n",
      " 'Crime TV Shows, TV Dramas' 'TV Horror, TV Mysteries, TV Thrillers'\n",
      " 'TV Dramas, TV Thrillers' 'Comedies, Cult Movies, Dramas'\n",
      " 'Crime TV Shows, TV Comedies, Teen TV Shows'\n",
      " 'Dramas, Faith & Spirituality' 'Comedies, Dramas, LGBTQ Movies'\n",
      " 'Action & Adventure, Comedies, Cult Movies'\n",
      " 'International TV Shows, TV Action & Adventure, TV Comedies'\n",
      " 'Dramas, Independent Movies, Music & Musicals'\n",
      " 'International TV Shows, TV Horror, TV Thrillers'\n",
      " 'International TV Shows, TV Horror, TV Mysteries'\n",
      " 'International TV Shows, TV Dramas, Teen TV Shows'\n",
      " 'Anime Series, International TV Shows, Teen TV Shows'\n",
      " 'Dramas, Sci-Fi & Fantasy, Thrillers'\n",
      " 'TV Action & Adventure, TV Dramas, TV Mysteries'\n",
      " 'Crime TV Shows, International TV Shows, TV Comedies'\n",
      " 'Action & Adventure, Comedies, Sci-Fi & Fantasy' \"Anime Series, Kids' TV\"\n",
      " 'Crime TV Shows, International TV Shows, Spanish-Language TV Shows'\n",
      " 'Horror Movies, Sci-Fi & Fantasy, Thrillers'\n",
      " 'International TV Shows, Korean TV Shows, TV Dramas'\n",
      " 'Stand-Up Comedy & Talk Shows'\n",
      " 'International Movies, Sci-Fi & Fantasy, Thrillers'\n",
      " 'Crime TV Shows, TV Action & Adventure'\n",
      " 'International TV Shows, Korean TV Shows, TV Action & Adventure'\n",
      " 'TV Action & Adventure, TV Comedies, TV Horror'\n",
      " 'International TV Shows, Romantic TV Shows'\n",
      " \"Crime TV Shows, Kids' TV, TV Comedies\"\n",
      " 'TV Comedies, TV Dramas, Teen TV Shows'\n",
      " 'Docuseries, International TV Shows, Reality TV'\n",
      " \"Classic & Cult TV, Kids' TV, TV Action & Adventure\"\n",
      " 'Horror Movies, Sci-Fi & Fantasy'\n",
      " 'Romantic TV Shows, TV Dramas, TV Sci-Fi & Fantasy'\n",
      " 'Dramas, International Movies, Sci-Fi & Fantasy'\n",
      " 'Children & Family Movies, Sports Movies'\n",
      " 'Dramas, Independent Movies, Thrillers'\n",
      " 'Independent Movies, International Movies, Thrillers'\n",
      " 'British TV Shows, TV Comedies'\n",
      " 'International TV Shows, Spanish-Language TV Shows, TV Dramas'\n",
      " 'Action & Adventure, Comedies, Independent Movies'\n",
      " 'International TV Shows, TV Action & Adventure, TV Dramas'\n",
      " 'Children & Family Movies, Music & Musicals' 'Music & Musicals'\n",
      " 'Action & Adventure, International Movies, Music & Musicals'\n",
      " 'Comedies, Sports Movies' 'Classic Movies, Thrillers'\n",
      " 'Docuseries, Reality TV' 'Crime TV Shows, TV Dramas, TV Horror'\n",
      " 'Crime TV Shows, TV Comedies, TV Dramas'\n",
      " 'British TV Shows, Docuseries, Reality TV'\n",
      " 'Reality TV, Science & Nature TV, TV Action & Adventure'\n",
      " 'Children & Family Movies, Documentaries, International Movies'\n",
      " 'Crime TV Shows, Romantic TV Shows, TV Dramas'\n",
      " 'British TV Shows, Docuseries'\n",
      " 'Documentaries, LGBTQ Movies, Music & Musicals'\n",
      " 'Romantic TV Shows, TV Dramas' 'Independent Movies, Thrillers'\n",
      " 'International TV Shows, TV Action & Adventure, TV Horror'\n",
      " 'Children & Family Movies, Documentaries, Sports Movies'\n",
      " 'Stand-Up Comedy & Talk Shows, TV Mysteries, TV Sci-Fi & Fantasy'\n",
      " 'International TV Shows, Reality TV, TV Comedies'\n",
      " 'Dramas, International Movies, LGBTQ Movies'\n",
      " 'Action & Adventure, Dramas, Independent Movies'\n",
      " 'British TV Shows, International TV Shows, TV Dramas'\n",
      " 'TV Action & Adventure, TV Dramas, TV Sci-Fi & Fantasy'\n",
      " 'TV Action & Adventure, TV Dramas, TV Horror'\n",
      " 'Action & Adventure, Anime Features, Sci-Fi & Fantasy' 'Anime Series'\n",
      " 'TV Dramas, TV Mysteries, TV Thrillers'\n",
      " 'Music & Musicals, Stand-Up Comedy'\n",
      " 'Docuseries, International TV Shows, Spanish-Language TV Shows'\n",
      " 'Crime TV Shows, International TV Shows, Reality TV'\n",
      " \"British TV Shows, Kids' TV\" 'Docuseries, Spanish-Language TV Shows'\n",
      " 'Crime TV Shows, TV Dramas, TV Thrillers'\n",
      " 'Documentaries, International Movies, LGBTQ Movies'\n",
      " 'British TV Shows, Crime TV Shows, International TV Shows'\n",
      " 'Action & Adventure, Independent Movies'\n",
      " 'Classic Movies, Dramas, Romantic Movies'\n",
      " 'Crime TV Shows, Romantic TV Shows, Spanish-Language TV Shows'\n",
      " 'Children & Family Movies, Comedies, Dramas' 'Cult Movies, Horror Movies'\n",
      " \"Kids' TV, TV Thrillers\" 'Classic Movies, Cult Movies, Horror Movies'\n",
      " 'Anime Series, Crime TV Shows, TV Thrillers'\n",
      " 'Anime Series, TV Horror, TV Thrillers' 'Classic Movies, Dramas'\n",
      " 'British TV Shows, Crime TV Shows, Docuseries'\n",
      " 'Action & Adventure, International Movies, Thrillers'\n",
      " 'Anime Series, Teen TV Shows'\n",
      " 'Children & Family Movies, Dramas, International Movies'\n",
      " 'Dramas, Faith & Spirituality, International Movies'\n",
      " 'TV Horror, TV Mysteries, Teen TV Shows'\n",
      " 'Children & Family Movies, Classic Movies'\n",
      " 'TV Dramas, TV Sci-Fi & Fantasy' 'Reality TV, Teen TV Shows'\n",
      " 'Docuseries, Reality TV, Teen TV Shows' 'Classic & Cult TV, TV Comedies'\n",
      " 'International TV Shows, Korean TV Shows, Reality TV'\n",
      " 'International TV Shows, Stand-Up Comedy & Talk Shows, TV Comedies'\n",
      " 'British TV Shows, International TV Shows, Romantic TV Shows'\n",
      " 'International TV Shows, TV Dramas, TV Thrillers' 'Anime Features'\n",
      " 'TV Horror, TV Mysteries, TV Sci-Fi & Fantasy'\n",
      " 'Children & Family Movies, Classic Movies, Comedies'\n",
      " 'Comedies, Faith & Spirituality, Romantic Movies'\n",
      " 'Classic Movies, Comedies, International Movies'\n",
      " 'Action & Adventure, Horror Movies, Sci-Fi & Fantasy'\n",
      " 'Action & Adventure, Classic Movies'\n",
      " 'TV Dramas, TV Sci-Fi & Fantasy, TV Thrillers'\n",
      " 'Comedies, Sci-Fi & Fantasy' 'Action & Adventure, Cult Movies, Dramas'\n",
      " 'TV Action & Adventure, TV Dramas' \"Kids' TV, Korean TV Shows\"\n",
      " 'Action & Adventure, Independent Movies, International Movies'\n",
      " 'Dramas, Faith & Spirituality, Independent Movies'\n",
      " 'Docuseries, TV Comedies'\n",
      " 'Documentaries, Faith & Spirituality, Music & Musicals'\n",
      " 'Romantic TV Shows, TV Comedies' \"Kids' TV, Spanish-Language TV Shows\"\n",
      " \"British TV Shows, Kids' TV, TV Thrillers\"\n",
      " 'Action & Adventure, Romantic Movies'\n",
      " 'British TV Shows, Classic & Cult TV, TV Comedies'\n",
      " 'Action & Adventure, Horror Movies, International Movies'\n",
      " 'Children & Family Movies, Documentaries'\n",
      " \"British TV Shows, Kids' TV, TV Comedies\"\n",
      " 'Horror Movies, Independent Movies, Sci-Fi & Fantasy'\n",
      " 'TV Sci-Fi & Fantasy, TV Thrillers'\n",
      " 'Romantic TV Shows, TV Comedies, TV Dramas'\n",
      " 'Reality TV, Romantic TV Shows'\n",
      " 'Classic Movies, Dramas, Independent Movies'\n",
      " 'Romantic TV Shows, TV Dramas, Teen TV Shows'\n",
      " 'TV Action & Adventure, TV Sci-Fi & Fantasy'\n",
      " 'British TV Shows, TV Horror, TV Thrillers'\n",
      " 'International Movies, Sports Movies' 'International Movies'\n",
      " 'Anime Series, International TV Shows, TV Horror'\n",
      " 'International TV Shows' 'Dramas, Music & Musicals, Sports Movies'\n",
      " 'International TV Shows, Spanish-Language TV Shows, TV Action & Adventure'\n",
      " 'Cult Movies, Dramas, International Movies'\n",
      " 'TV Action & Adventure, TV Comedies, TV Sci-Fi & Fantasy'\n",
      " 'Reality TV, Science & Nature TV'\n",
      " 'Action & Adventure, Anime Features, Children & Family Movies'\n",
      " \"Kids' TV, TV Action & Adventure\"\n",
      " 'Children & Family Movies, Sci-Fi & Fantasy' \"Crime TV Shows, Kids' TV\"\n",
      " 'International Movies, Music & Musicals, Thrillers'\n",
      " 'Crime TV Shows, Spanish-Language TV Shows, TV Action & Adventure'\n",
      " \"Classic & Cult TV, Kids' TV, Spanish-Language TV Shows\"\n",
      " 'Romantic TV Shows, Spanish-Language TV Shows, TV Dramas'\n",
      " 'Action & Adventure, Cult Movies, International Movies'\n",
      " 'Crime TV Shows, Spanish-Language TV Shows, TV Dramas'\n",
      " 'Action & Adventure, Children & Family Movies, Dramas'\n",
      " 'Dramas, Romantic Movies, Sci-Fi & Fantasy'\n",
      " 'Action & Adventure, Dramas, Sci-Fi & Fantasy'\n",
      " 'International TV Shows, TV Mysteries, TV Thrillers'\n",
      " 'Anime Series, International TV Shows, TV Thrillers'\n",
      " 'Horror Movies, International Movies, Sci-Fi & Fantasy'\n",
      " 'Comedies, Cult Movies, International Movies'\n",
      " 'Comedies, Music & Musicals, Romantic Movies'\n",
      " 'Children & Family Movies, Comedies, Faith & Spirituality'\n",
      " 'Crime TV Shows, Docuseries, TV Mysteries'\n",
      " 'Crime TV Shows, Docuseries, Science & Nature TV'\n",
      " 'British TV Shows, Crime TV Shows, TV Dramas'\n",
      " 'Classic Movies, Comedies, Cult Movies'\n",
      " 'International Movies, Romantic Movies, Thrillers'\n",
      " 'Classic Movies, Dramas, Music & Musicals'\n",
      " 'Cult Movies, Horror Movies, Thrillers' 'Anime Features, Romantic Movies'\n",
      " 'Comedies, Dramas, Music & Musicals'\n",
      " 'Anime Features, International Movies, Romantic Movies'\n",
      " 'Documentaries, Faith & Spirituality, International Movies'\n",
      " 'Action & Adventure, Classic Movies, Sci-Fi & Fantasy'\n",
      " 'International TV Shows, Stand-Up Comedy & Talk Shows'\n",
      " \"British TV Shows, Kids' TV, TV Dramas\"\n",
      " 'Classic & Cult TV, TV Action & Adventure, TV Horror'\n",
      " 'Children & Family Movies, Dramas, Faith & Spirituality'\n",
      " 'TV Action & Adventure, TV Comedies'\n",
      " 'Action & Adventure, Anime Features, Horror Movies'\n",
      " 'Crime TV Shows, International TV Shows, Romantic TV Shows'\n",
      " 'Classic Movies, Comedies, Music & Musicals'\n",
      " 'Comedies, Horror Movies, International Movies'\n",
      " \"Kids' TV, Spanish-Language TV Shows, Teen TV Shows\" 'Independent Movies'\n",
      " 'Crime TV Shows, International TV Shows, TV Mysteries'\n",
      " 'Action & Adventure, Thrillers' \"Kids' TV, TV Dramas, Teen TV Shows\"\n",
      " 'Anime Series, Crime TV Shows' \"Kids' TV, TV Dramas\"\n",
      " 'Crime TV Shows, TV Action & Adventure, TV Comedies'\n",
      " 'TV Comedies, Teen TV Shows' 'Reality TV, TV Horror, TV Thrillers'\n",
      " 'Documentaries, Horror Movies'\n",
      " 'Classic & Cult TV, TV Horror, TV Mysteries'\n",
      " 'Action & Adventure, Cult Movies, Sci-Fi & Fantasy'\n",
      " 'Anime Series, International TV Shows, Romantic TV Shows'\n",
      " 'Action & Adventure, Comedies, Romantic Movies'\n",
      " 'Comedies, Dramas, Faith & Spirituality'\n",
      " 'Comedies, Faith & Spirituality, International Movies' 'Romantic Movies'\n",
      " 'Dramas, Horror Movies, Sci-Fi & Fantasy'\n",
      " 'International TV Shows, Korean TV Shows, TV Comedies'\n",
      " 'Comedies, Independent Movies, LGBTQ Movies'\n",
      " 'TV Comedies, TV Dramas, TV Sci-Fi & Fantasy' 'Dramas, Music & Musicals'\n",
      " 'Dramas, Faith & Spirituality, Romantic Movies'\n",
      " 'International TV Shows, TV Action & Adventure, TV Sci-Fi & Fantasy'\n",
      " 'Reality TV, TV Comedies' \"Docuseries, Kids' TV, Science & Nature TV\"\n",
      " 'Action & Adventure, Sci-Fi & Fantasy, Thrillers'\n",
      " 'Action & Adventure, Children & Family Movies, Sci-Fi & Fantasy'\n",
      " 'Action & Adventure, Children & Family Movies, Classic Movies'\n",
      " 'Horror Movies, International Movies, Romantic Movies'\n",
      " 'TV Action & Adventure' 'TV Comedies, TV Dramas, TV Horror'\n",
      " 'British TV Shows, International TV Shows, Stand-Up Comedy & Talk Shows'\n",
      " 'Dramas, Music & Musicals, Sci-Fi & Fantasy'\n",
      " 'Spanish-Language TV Shows, TV Dramas' 'Documentaries, Stand-Up Comedy'\n",
      " 'Classic & Cult TV, TV Action & Adventure, TV Dramas'\n",
      " 'British TV Shows, TV Dramas, TV Sci-Fi & Fantasy'\n",
      " 'Anime Features, Music & Musicals'\n",
      " 'International TV Shows, TV Comedies, TV Sci-Fi & Fantasy'\n",
      " 'Comedies, Independent Movies, Romantic Movies'\n",
      " 'Comedies, Cult Movies, Horror Movies'\n",
      " 'Comedies, Cult Movies, Sports Movies' 'Classic Movies, Documentaries'\n",
      " 'Sci-Fi & Fantasy, Thrillers'\n",
      " 'Classic & Cult TV, Crime TV Shows, International TV Shows'\n",
      " \"Kids' TV, Korean TV Shows, TV Comedies\"\n",
      " 'British TV Shows, Romantic TV Shows, TV Dramas'\n",
      " 'Action & Adventure, Faith & Spirituality, Sci-Fi & Fantasy'\n",
      " 'TV Dramas, TV Sci-Fi & Fantasy, Teen TV Shows'\n",
      " 'Action & Adventure, Children & Family Movies'\n",
      " 'Comedies, Horror Movies, Independent Movies'\n",
      " 'Action & Adventure, Classic Movies, Cult Movies'\n",
      " 'TV Dramas, TV Horror, TV Mysteries'\n",
      " 'International Movies, Romantic Movies, Sci-Fi & Fantasy'\n",
      " 'Anime Series, Romantic TV Shows, Teen TV Shows'\n",
      " 'TV Action & Adventure, TV Horror, TV Sci-Fi & Fantasy'\n",
      " 'Anime Features, Music & Musicals, Sci-Fi & Fantasy'\n",
      " 'Action & Adventure, Anime Features, Classic Movies'\n",
      " 'International TV Shows, Reality TV, Spanish-Language TV Shows'\n",
      " 'Anime Series, Romantic TV Shows'\n",
      " 'International TV Shows, Reality TV, TV Action & Adventure'\n",
      " 'TV Comedies, TV Dramas, TV Mysteries'\n",
      " 'Docuseries, Science & Nature TV, TV Dramas'\n",
      " 'Crime TV Shows, TV Action & Adventure, TV Thrillers'\n",
      " 'Anime Features, Children & Family Movies' 'Docuseries, TV Dramas'\n",
      " 'British TV Shows, International TV Shows, TV Action & Adventure'\n",
      " 'Comedies, Cult Movies, Independent Movies'\n",
      " 'Action & Adventure, Horror Movies, Independent Movies'\n",
      " 'British TV Shows, Docuseries, TV Comedies' 'Comedies, Documentaries'\n",
      " 'British TV Shows, Classic & Cult TV, International TV Shows'\n",
      " 'TV Comedies, TV Sci-Fi & Fantasy'\n",
      " 'TV Comedies, TV Sci-Fi & Fantasy, Teen TV Shows'\n",
      " 'Documentaries, Dramas, International Movies'\n",
      " 'Action & Adventure, Classic Movies, International Movies'\n",
      " 'Cult Movies, Independent Movies, Thrillers'\n",
      " 'Comedies, Independent Movies, Music & Musicals'\n",
      " 'TV Action & Adventure, TV Dramas, Teen TV Shows'\n",
      " 'Romantic TV Shows, TV Action & Adventure, TV Dramas'\n",
      " 'Crime TV Shows, TV Comedies'\n",
      " 'Classic Movies, Cult Movies, Documentaries'\n",
      " 'Children & Family Movies, Comedies, Cult Movies'\n",
      " \"Classic & Cult TV, Kids' TV, TV Comedies\"\n",
      " 'Classic Movies, Dramas, LGBTQ Movies'\n",
      " 'Comedies, Romantic Movies, Sports Movies'\n",
      " \"Anime Series, Kids' TV, TV Action & Adventure\"\n",
      " 'Action & Adventure, Children & Family Movies, Comedies'\n",
      " 'Reality TV, TV Comedies, TV Horror'\n",
      " 'Classic Movies, Dramas, Sports Movies'\n",
      " \"Kids' TV, TV Action & Adventure, TV Dramas\"\n",
      " 'Action & Adventure, Sci-Fi & Fantasy, Sports Movies'\n",
      " 'Dramas, Romantic Movies, Thrillers' 'Action & Adventure, Cult Movies'\n",
      " 'Children & Family Movies, Dramas, Independent Movies'\n",
      " 'Children & Family Movies, Comedies, LGBTQ Movies'\n",
      " 'Action & Adventure, Comedies, Music & Musicals'\n",
      " 'Classic Movies, Horror Movies, Thrillers'\n",
      " 'Classic & Cult TV, TV Dramas, TV Sci-Fi & Fantasy'\n",
      " 'Children & Family Movies, Comedies, Sports Movies'\n",
      " 'Docuseries, Stand-Up Comedy & Talk Shows'\n",
      " 'Action & Adventure, Dramas, Faith & Spirituality'\n",
      " 'TV Comedies, TV Horror, TV Thrillers'\n",
      " 'Classic Movies, Comedies, Independent Movies'\n",
      " 'Crime TV Shows, TV Horror, TV Mysteries'\n",
      " 'Children & Family Movies, Classic Movies, Dramas'\n",
      " 'Romantic TV Shows, Spanish-Language TV Shows, TV Comedies'\n",
      " 'Dramas, Faith & Spirituality, Sports Movies'\n",
      " 'Classic & Cult TV, TV Action & Adventure, TV Sci-Fi & Fantasy'\n",
      " 'International TV Shows, Korean TV Shows, TV Horror'\n",
      " 'Classic Movies, Comedies, Romantic Movies'\n",
      " 'Dramas, Horror Movies, Music & Musicals'\n",
      " 'Cult Movies, Horror Movies, Independent Movies'\n",
      " 'Classic Movies, Dramas, Thrillers'\n",
      " 'TV Dramas, TV Mysteries, TV Sci-Fi & Fantasy'\n",
      " 'Classic Movies, Independent Movies, Thrillers'\n",
      " 'TV Comedies, TV Mysteries'\n",
      " 'International TV Shows, Romantic TV Shows, TV Mysteries'\n",
      " \"Kids' TV, TV Comedies, Teen TV Shows\"\n",
      " 'Crime TV Shows, TV Action & Adventure, TV Sci-Fi & Fantasy'\n",
      " \"Kids' TV, TV Comedies, TV Sci-Fi & Fantasy\"\n",
      " 'Anime Series, International TV Shows, Spanish-Language TV Shows'\n",
      " 'Cult Movies, Dramas, Thrillers'\n",
      " 'International TV Shows, Spanish-Language TV Shows, TV Horror'\n",
      " 'Children & Family Movies, Faith & Spirituality'\n",
      " 'Comedies, Music & Musicals, Sports Movies'\n",
      " 'Classic Movies, Comedies, Sports Movies'\n",
      " 'Comedies, Dramas, Sports Movies'\n",
      " 'Action & Adventure, Dramas, Sports Movies'\n",
      " \"Kids' TV, Reality TV, TV Dramas\"\n",
      " 'Horror Movies, LGBTQ Movies, Music & Musicals'\n",
      " 'Comedies, LGBTQ Movies, Music & Musicals'\n",
      " 'International TV Shows, Romantic TV Shows, TV Action & Adventure'\n",
      " 'Cult Movies, Documentaries, LGBTQ Movies'\n",
      " 'Action & Adventure, Romantic Movies, Sci-Fi & Fantasy'\n",
      " 'Classic & Cult TV, TV Sci-Fi & Fantasy'\n",
      " 'TV Action & Adventure, TV Mysteries, TV Sci-Fi & Fantasy'\n",
      " 'Children & Family Movies, Dramas, Music & Musicals'\n",
      " 'Docuseries, TV Sci-Fi & Fantasy'\n",
      " \"British TV Shows, Classic & Cult TV, Kids' TV\"\n",
      " 'Action & Adventure, International Movies, Sports Movies'\n",
      " 'Docuseries, Science & Nature TV, TV Action & Adventure'\n",
      " 'Comedies, Cult Movies, LGBTQ Movies'\n",
      " 'Crime TV Shows, International TV Shows, TV Sci-Fi & Fantasy'\n",
      " 'Comedies, Horror Movies, Sci-Fi & Fantasy'\n",
      " 'Action & Adventure, Comedies, Horror Movies'\n",
      " 'Classic & Cult TV, Crime TV Shows, TV Dramas' 'TV Horror, Teen TV Shows'\n",
      " 'Reality TV, Spanish-Language TV Shows'\n",
      " 'Action & Adventure, Documentaries, Sports Movies'\n",
      " 'Anime Features, International Movies, Sci-Fi & Fantasy'\n",
      " 'LGBTQ Movies, Thrillers' 'Action & Adventure, Sports Movies'\n",
      " 'International Movies, LGBTQ Movies, Romantic Movies'\n",
      " \"Kids' TV, Reality TV, Science & Nature TV\"\n",
      " 'International TV Shows, Spanish-Language TV Shows, Stand-Up Comedy & Talk Shows']\n",
      "UNIQUE listed_in: 492\n",
      "------------------------------------------------------------------------------------------------\n",
      "UNIQUE description: ['In a future where the elite inhabit an island paradise far from the crowded slums, you get one chance to join the 3% saved from squalor.'\n",
      " 'After a devastating earthquake hits Mexico City, trapped survivors from all walks of life wait to be rescued while trying desperately to stay alive.'\n",
      " \"When an army recruit is found dead, his fellow soldiers are forced to confront a terrifying secret that's haunting their jungle island training camp.\"\n",
      " ...\n",
      " \"In this documentary, South African rapper Nasty C hits the stage and streets of Tokyo, introducing himself to the city's sights, sounds and culture.\"\n",
      " 'Dessert wizard Adriano Zumbo looks for the next “Willy Wonka” in this tense competition that finds skilled amateurs competing for a $100,000 prize.'\n",
      " 'This documentary delves into the mystique behind the blues-rock trio and explores how the enigmatic band created their iconic look and sound.']\n",
      "UNIQUE description: 7769\n",
      "------------------------------------------------------------------------------------------------\n"
     ]
    }
   ],
   "source": [
    "#Unique values in each column\n",
    "for col in df.columns:\n",
    "    print(\"UNIQUE {0}: {1}\".format(col, df[col].unique()))\n",
    "    print(\"UNIQUE {0}: {1}\".format(col, len(df[col].unique())))\n",
    "    print(\"--------\"*12)"
   ]
  },
  {
   "cell_type": "markdown",
   "metadata": {},
   "source": [
    "## Plot columns"
   ]
  },
  {
   "cell_type": "code",
   "execution_count": 13,
   "metadata": {},
   "outputs": [
    {
     "data": {
      "image/png": "[encoded data removed]",
      "text/plain": [
       "<Figure size 432x288 with 1 Axes>"
      ]
     },
     "metadata": {
      "needs_background": "light"
     },
     "output_type": "display_data"
    }
   ],
   "source": [
    "countries_count = df['country'].value_counts()\n",
    "ax = sns.barplot(x=countries_count[:20].index, y=countries_count[:20].values)\n",
    "plt.xticks(rotation=90)\n",
    "plt.title('Top 20 Countries', color='red')\n",
    "ax.set(ylabel='Count')\n",
    "plt.show()"
   ]
  },
  {
   "cell_type": "code",
   "execution_count": 14,
   "metadata": {},
   "outputs": [
    {
     "data": {
      "image/png": "[encoded data removed]",
      "text/plain": [
       "<Figure size 432x288 with 1 Axes>"
      ]
     },
     "metadata": {},
     "output_type": "display_data"
    }
   ],
   "source": [
    "type_count = df['type'].value_counts()\n",
    "ax = plt.pie(x=type_count.values, labels = type_count.index, explode=(0.05, 0), autopct='%1.1f%%')\n",
    "plt.title('Types', color='red')\n",
    "plt.show()\n"
   ]
  },
  {
   "cell_type": "code",
   "execution_count": 15,
   "metadata": {},
   "outputs": [
    {
     "data": {
      "image/png": "[encoded data removed]",
      "text/plain": [
       "<Figure size 432x288 with 1 Axes>"
      ]
     },
     "metadata": {
      "needs_background": "light"
     },
     "output_type": "display_data"
    }
   ],
   "source": [
    "director_count = df['director'].value_counts()\n",
    "#The first one is NA so we ignore it\n",
    "ax = sns.barplot(x=director_count[1:20].index, y=director_count[1:20].values)\n",
    "plt.title('Director', color='red')\n",
    "plt.xticks(rotation=90)\n",
    "ax.set(ylabel='Count')\n",
    "plt.show()"
   ]
  },
  {
   "cell_type": "code",
   "execution_count": 16,
   "metadata": {},
   "outputs": [
    {
     "data": {
      "application/vnd.jupyter.widget-view+json": {
       "model_id": "9f06f99bc4f34d2789996508ab47f2a2",
       "version_major": 2,
       "version_minor": 0
      },
      "text/plain": [
       "Button(description='Toggle Pandas/Lux', layout=Layout(top='5px', width='140px'), style=ButtonStyle())"
      ]
     },
     "metadata": {},
     "output_type": "display_data"
    },
    {
     "data": {
      "application/vnd.jupyter.widget-view+json": {
       "model_id": "d2a8b93a4f2a4f688ca6bd1a9b19444b",
       "version_major": 2,
       "version_minor": 0
      },
      "text/plain": [
       "Output()"
      ]
     },
     "metadata": {},
     "output_type": "display_data"
    },
    {
     "data": {
      "image/png": "[encoded data removed]",
      "text/plain": [
       "<Figure size 432x288 with 1 Axes>"
      ]
     },
     "metadata": {
      "needs_background": "light"
     },
     "output_type": "display_data"
    }
   ],
   "source": [
    "date_count = df['date_added'].value_counts()\n",
    "ax = sns.lineplot(x=date_count[:20].index, y=date_count[:20].values)\n",
    "plt.title('Date Added', color='red')\n",
    "plt.xticks(rotation=90)\n",
    "ax.set(ylabel='Count')\n",
    "plt.show()"
   ]
  },
  {
   "cell_type": "code",
   "execution_count": 17,
   "metadata": {},
   "outputs": [
    {
     "data": {
      "image/png": "[encoded data removed]",
      "text/plain": [
       "<Figure size 432x288 with 1 Axes>"
      ]
     },
     "metadata": {
      "needs_background": "light"
     },
     "output_type": "display_data"
    }
   ],
   "source": [
    "release_count = df['release_year'].value_counts()\n",
    "ax = sns.barplot(x=release_count[:20].index, y=release_count[:20].values)\n",
    "plt.title('Release Year', color='red')\n",
    "plt.xticks(rotation=90)\n",
    "ax.set(ylabel='Count')\n",
    "plt.show()"
   ]
  },
  {
   "cell_type": "code",
   "execution_count": 18,
   "metadata": {},
   "outputs": [
    {
     "data": {
      "image/png": "[encoded data removed]",
      "text/plain": [
       "<Figure size 432x288 with 1 Axes>"
      ]
     },
     "metadata": {
      "needs_background": "light"
     },
     "output_type": "display_data"
    }
   ],
   "source": [
    "rating_count = df['rating'].value_counts()\n",
    "ax = sns.barplot(x=rating_count.index, y=rating_count.values)\n",
    "plt.title('Rating', color='red')\n",
    "plt.xticks(rotation=90)\n",
    "ax.set(ylabel='Count')\n",
    "plt.show()"
   ]
  },
  {
   "cell_type": "code",
   "execution_count": 19,
   "metadata": {},
   "outputs": [
    {
     "data": {
      "image/png": "[encoded data removed]",
      "text/plain": [
       "<Figure size 432x288 with 1 Axes>"
      ]
     },
     "metadata": {
      "needs_background": "light"
     },
     "output_type": "display_data"
    }
   ],
   "source": [
    "duration_count = df['duration'].value_counts()\n",
    "ax = sns.barplot(x=duration_count[:20].index, y=duration_count[:20].values)\n",
    "plt.title('Duration', color='red')\n",
    "plt.xticks(rotation=90)\n",
    "ax.set(ylabel='Count')\n",
    "plt.show()"
   ]
  },
  {
   "cell_type": "code",
   "execution_count": 20,
   "metadata": {},
   "outputs": [
    {
     "data": {
      "image/png": "[encoded data removed]",
      "text/plain": [
       "<Figure size 432x288 with 1 Axes>"
      ]
     },
     "metadata": {
      "needs_background": "light"
     },
     "output_type": "display_data"
    }
   ],
   "source": [
    "listed_in_count = df['listed_in'].value_counts()\n",
    "ax = sns.barplot(x=listed_in_count[:20].index, y=listed_in_count[:20].values)\n",
    "plt.title('Listed in Genres', color='red')\n",
    "plt.xticks(rotation=90)\n",
    "ax.set(ylabel='Count')\n",
    "plt.show()"
   ]
  },
  {
   "cell_type": "markdown",
   "metadata": {},
   "source": [
    "## Plots with more details"
   ]
  },
  {
   "cell_type": "code",
   "execution_count": 21,
   "metadata": {},
   "outputs": [
    {
     "data": {
      "image/png": "[encoded data removed]",
      "text/plain": [
       "<Figure size 432x288 with 1 Axes>"
      ]
     },
     "metadata": {
      "needs_background": "light"
     },
     "output_type": "display_data"
    }
   ],
   "source": [
    "Movies = df[df['type'] == 'Movie'] \n",
    "movies_director = Movies[\"director\"].value_counts()\n",
    "ax = sns.barplot(x=movies_director[1:20].index, y=movies_director[1:20].values)\n",
    "plt.title('Movies based on directors', color='red')\n",
    "plt.xticks(rotation=90)\n",
    "ax.set(ylabel='Count')\n",
    "plt.show()"
   ]
  },
  {
   "cell_type": "code",
   "execution_count": 22,
   "metadata": {},
   "outputs": [
    {
     "data": {
      "image/png": "[encoded data removed]",
      "text/plain": [
       "<Figure size 432x288 with 1 Axes>"
      ]
     },
     "metadata": {
      "needs_background": "light"
     },
     "output_type": "display_data"
    }
   ],
   "source": [
    "TV_Series = df[df['type'] == 'TV Show']\n",
    "tv_series_director = TV_Series[\"director\"].value_counts()\n",
    "ax = sns.barplot(x=tv_series_director[1:20].index, y=tv_series_director[1:20].values)\n",
    "plt.title('TV Shows based on directors', color='red')\n",
    "plt.xticks(rotation=90)\n",
    "ax.set(ylabel='Count')\n",
    "plt.show()"
   ]
  },
  {
   "cell_type": "code",
   "execution_count": 23,
   "metadata": {},
   "outputs": [
    {
     "data": {
      "image/png": "[encoded data removed]",
      "text/plain": [
       "<Figure size 432x288 with 1 Axes>"
      ]
     },
     "metadata": {
      "needs_background": "light"
     },
     "output_type": "display_data"
    }
   ],
   "source": [
    "#Movies relased in 2019\n",
    "movies_release_2019 = Movies[Movies['release_year'] == 2019]\n",
    "#Get rate of 2019 movies and count them\n",
    "movies_rate_2019 = movies_release_2019[\"rating\"].value_counts()\n",
    "ax = sns.barplot(x=movies_rate_2019[:20].index, y=movies_rate_2019[:20].values)\n",
    "plt.title('Movies Ratings in 2019', color='red')\n",
    "plt.xticks(rotation=90)\n",
    "ax.set(ylabel='Count')\n",
    "plt.show()"
   ]
  },
  {
   "cell_type": "code",
   "execution_count": 24,
   "metadata": {},
   "outputs": [
    {
     "data": {
      "image/png": "[encoded data removed]",
      "text/plain": [
       "<Figure size 432x288 with 1 Axes>"
      ]
     },
     "metadata": {
      "needs_background": "light"
     },
     "output_type": "display_data"
    }
   ],
   "source": [
    "#Movies relased in 2018\n",
    "movies_release_2018 = Movies[Movies['release_year'] == 2018]\n",
    "#Get genres of 2018 movies and count them\n",
    "movies_genre_2018 = movies_release_2018[\"listed_in\"].value_counts()\n",
    "ax = sns.barplot(x=movies_genre_2018[:20].index, y=movies_genre_2018[:20].values)\n",
    "plt.title('Movies in 2018 based on Genres', color='red')\n",
    "plt.xticks(rotation=90)\n",
    "ax.set(ylabel='Count')\n",
    "plt.show()"
   ]
  },
  {
   "cell_type": "code",
   "execution_count": 25,
   "metadata": {},
   "outputs": [
    {
     "data": {
      "application/vnd.jupyter.widget-view+json": {
       "model_id": "5e840a0d77dd48228fb4c7cb3425289f",
       "version_major": 2,
       "version_minor": 0
      },
      "text/plain": [
       "Button(description='Toggle Pandas/Lux', layout=Layout(top='5px', width='140px'), style=ButtonStyle())"
      ]
     },
     "metadata": {},
     "output_type": "display_data"
    },
    {
     "data": {
      "application/vnd.jupyter.widget-view+json": {
       "model_id": "8d7ec69dae1548fab7a8e3926946efa5",
       "version_major": 2,
       "version_minor": 0
      },
      "text/plain": [
       "Output()"
      ]
     },
     "metadata": {},
     "output_type": "display_data"
    },
    {
     "data": {
      "text/plain": []
     },
     "execution_count": 25,
     "metadata": {},
     "output_type": "execute_result"
    }
   ],
   "source": [
    "df"
   ]
  },
  {
   "cell_type": "code",
   "execution_count": null,
   "metadata": {},
   "outputs": [],
   "source": []
  }
 ],
 "metadata": {
  "kernelspec": {
   "display_name": "Python 3",
   "language": "python",
   "name": "python3"
  },
  "language_info": {
   "codemirror_mode": {
    "name": "ipython",
    "version": 3
   },
   "file_extension": ".py",
   "mimetype": "text/x-python",
   "name": "python",
   "nbconvert_exporter": "python",
   "pygments_lexer": "ipython3",
   "version": "3.8.5"
  }
 },
 "nbformat": 4,
 "nbformat_minor": 4
}
